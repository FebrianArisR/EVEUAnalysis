{
 "cells": [
  {
   "cell_type": "code",
   "execution_count": 1,
   "id": "61bb5b97-2201-4262-9dab-a17da24e79bb",
   "metadata": {
    "tags": []
   },
   "outputs": [],
   "source": [
    "import pymrio\n",
    "exio3 = pymrio.parse_exiobase3(path=\"exiobase/IOT_2022_pxp.zip\")\n",
    "import country_converter as coco\n",
    "cc = coco.CountryConverter()\n",
    "import numpy as np\n",
    "import matplotlib.pyplot as plt\n",
    "import pandas as pd\n",
    "import seaborn as sns\n",
    "\n",
    "# Suppress future warnings\n",
    "import warnings\n",
    "warnings.simplefilter(action='ignore', category=FutureWarning)"
   ]
  },
  {
   "cell_type": "code",
   "execution_count": 2,
   "id": "9c591fe5-a93e-4119-8be3-d149ccab918e",
   "metadata": {
    "tags": []
   },
   "outputs": [],
   "source": [
    "region_agg = coco.agg_conc(original_countries='EXIO3', aggregates=[\"EU\"], missing_countries='Non EU', merge_multiple_string=None)"
   ]
  },
  {
   "cell_type": "code",
   "execution_count": 3,
   "id": "73fcde5a-a9c2-4d78-bf17-495f3c892053",
   "metadata": {
    "tags": []
   },
   "outputs": [
    {
     "data": {
      "text/plain": [
       "<pymrio.core.mriosystem.IOSystem at 0x7f7ffa25a850>"
      ]
     },
     "execution_count": 3,
     "metadata": {},
     "output_type": "execute_result"
    }
   ],
   "source": [
    "exio3.aggregate(region_agg = region_agg)"
   ]
  },
  {
   "cell_type": "code",
   "execution_count": 4,
   "id": "fd98c573-0412-477d-92c9-6533cc20b3ed",
   "metadata": {
    "tags": []
   },
   "outputs": [],
   "source": [
    "exio3.calc_all()\n",
    "exio3_ori = exio3.copy()\n",
    "Y = exio3.Y.copy()\n",
    "x = exio3.x.copy()\n",
    "Z = exio3.Z.copy()\n",
    "A = exio3.A.copy()\n",
    "L = exio3.L.copy()"
   ]
  },
  {
   "cell_type": "code",
   "execution_count": 5,
   "id": "0538e6c7-5206-4966-ba75-324a3ef49658",
   "metadata": {
    "tags": []
   },
   "outputs": [],
   "source": [
    "# Setting up the variables\n",
    "vehicles_list = [\"ICEV\",\"PHEV\",\"BEV\",\"FCEV\"]\n",
    "stressor = \"Carbon dioxide (CO2) IPCC categories 1 to 4 and 6 to 7 (excl land use, land use change and forestry)\"\n",
    "#desired_order = exio3.get_sectors()\n",
    "scenario_list = [\"Projection-STEPS\",\"Projection-APS\"]\n",
    "year_list = [2023,2025,2030,2035]\n",
    "demand_list = ['normal','EU100','EU0']\n",
    "column_list = [\"scenario\",\"year\",\"vehicles\",\"stage\",\"region\",\"emission\"]"
   ]
  },
  {
   "cell_type": "code",
   "execution_count": 6,
   "id": "6460d827-b90f-4c8c-817a-62b246c4ee10",
   "metadata": {
    "tags": []
   },
   "outputs": [],
   "source": [
    "def calc_emission(vehicles,outlook): \n",
    "    exio3.Y.iloc[:,:] = 0\n",
    "    exio3.Y[\"EU\",vehicles] = outlook[vehicles]\n",
    "    exio3.Y.fillna(0,inplace=True)\n",
    "    \n",
    "    # calculate with new demand\n",
    "    # coeff : A, L, S, M should be the same with original\n",
    "    exio3.x = None # reset the output\n",
    "    exio3.Z = None  # expect new transaction to satisfy the new the output\n",
    "    exio3.impacts.D_cba = None # reset foot print cba, others are not synch because they consider the emission from final demand\n",
    "    exio3.impacts.F = None\n",
    "    exio3.calc_all()\n",
    "    \n",
    "    # updating F with current output \n",
    "    #x = exio3.x\n",
    "    #S = exio3.impacts.S\n",
    "    #diagonal_x = pd.DataFrame(0.0000000, index=x.index, columns=x.index)\n",
    "    #np.fill_diagonal(diagonal_x.values, x.values.flatten())\n",
    "    \n",
    "    #F = S.dot(diagonal_x)\n",
    "    #exio3.impacts.F = F\n",
    "    \n",
    "    diag_emission = None\n",
    "    diag_emission = exio3.impacts.diag_stressor(stressor) #become a matrix F of regional - sector X regional - sector \n",
    "    #diag_emission.F\n",
    "    \n",
    "    exio3.emission  = diag_emission\n",
    "    exio3.calc_all()\n",
    "    \n",
    "    #print(exio3.meta)\n",
    "    #print(\"done calculation for \"+vehicles)\n",
    "    emission = exio3.emission.D_cba\n",
    "    return emission"
   ]
  },
  {
   "cell_type": "code",
   "execution_count": 7,
   "id": "dc6716b0-ff6a-42e5-beff-779e14f73bfd",
   "metadata": {
    "tags": []
   },
   "outputs": [],
   "source": [
    "def calc_emission_stage(stage):\n",
    "    #start collectimg emission data\n",
    "    emission_stage = pd.DataFrame(columns=column_list)\n",
    "\n",
    "    for scenario in scenario_list:\n",
    "        # read new outlook \n",
    "        file_path = \"data/outlook_\"+stage+\"_\"+scenario+\".csv\"\n",
    "        if ((stage==\"manufacturing\") | (stage==\"battery\")): #manufacturing and battery stage will depend on where the stage will be produced\n",
    "           file_path = \"data/outlook_\"+stage+\"_\"+scenario+\"_\"+demand+\".csv\"\n",
    "        \n",
    "        #---------------------------------\n",
    "        outlook = pd.read_csv(file_path)\n",
    "        outlook.set_index(keys=[\"year\",\"region\",\"sector\"],inplace=True)\n",
    "\n",
    "        for year in year_list: \n",
    "            for vehicles in vehicles_list:\n",
    "                emission = calc_emission(vehicles,outlook.loc[year])\n",
    "                emission_regions = emission.groupby(level=0).sum()\n",
    "                emission_regions_total = emission_regions.sum(axis=1).to_frame().reset_index()\n",
    "                emission_regions_total.rename(columns = {0:\"emission\"}, inplace=True)\n",
    "                emission_regions_total[\"stage\"] = stage\n",
    "                emission_regions_total[\"scenario\"] =  scenario\n",
    "                emission_regions_total[\"year\"] =  year\n",
    "                emission_regions_total[\"vehicles\"] =  vehicles\n",
    "                \n",
    "                ## add to overall record\n",
    "                emission_stage = pd.concat([emission_stage,emission_regions_total],axis=0) \n",
    "    \n",
    "    emission_stage.reset_index(drop=True,inplace=True) \n",
    "    emission_stage.to_csv(\"outputs/emission_by_stage_\"+stage+\"_\"+demand+\".csv\",index=False)"
   ]
  },
  {
   "cell_type": "code",
   "execution_count": 8,
   "id": "692124eb-8261-48cc-a627-17403418f26a",
   "metadata": {
    "tags": []
   },
   "outputs": [],
   "source": [
    "#selected scenario - MANUFACTURING, WELL TO TANK, BATTERY REPLACEMENT, DISPOSAL\n",
    "for demand in demand_list:\n",
    "    calc_emission_stage(stage=\"manufacturing\")\n",
    "    calc_emission_stage(stage=\"welltotank\")\n",
    "    calc_emission_stage(stage=\"battery\")\n",
    "    calc_emission_stage(stage=\"disposal\")"
   ]
  },
  {
   "cell_type": "code",
   "execution_count": 9,
   "id": "6c798014-f4e7-4354-9605-81f0cd195ca9",
   "metadata": {
    "tags": []
   },
   "outputs": [],
   "source": [
    "# CALCULATE DIRECT EMISSION \n",
    "stage=\"driving\"\n",
    "region = \"EU\" #all emission will be produced in EU\n",
    "\n",
    "# emission will depend on vehicle population (not sales)\n",
    "file_path = \"data/outlook_vehicles_stock.csv\"\n",
    "outlook = pd.read_csv(file_path)\n",
    "outlook = outlook[outlook.year.isin(year_list)] #only specified year data \n",
    "outlook = pd.melt(outlook, id_vars=['category','region','year'], value_vars=['ICEV', 'PHEV', 'BEV', 'FCEV'],\n",
    "                    var_name='vehicles', value_name='outlook')\n",
    "\n",
    "# requirement or assumption for direct emission\n",
    "file_path = \"inputs/input_direct_emission.csv\"\n",
    "requirement = pd.read_csv(file_path)\n",
    "requirement = pd.melt(requirement, id_vars=['assumption','code','unit'], value_vars=['ICEV', 'PHEV', 'BEV', 'FCEV'],var_name='vehicles', value_name='value')\n",
    "\n",
    "requirement = pd.pivot(requirement,index=\"vehicles\",columns=\"code\", values=\"value\").reset_index()\n",
    "requirement.fillna(0,inplace=True)\n",
    "\n",
    "outlook_requirement = pd.merge(outlook, requirement, on='vehicles', how='outer')\n",
    "# reminder: the assumption is in tCO2, stressor in exiobase in gigagram co2 (10^9)\n",
    "outlook_requirement[\"emission\"] = (outlook_requirement[\"outlook\"] * outlook_requirement[\"vehicle_annual_mileage\"] * outlook_requirement[\"emission_intensity\"]) / 1000 # from ton to Gg\n",
    "outlook_requirement.rename(columns={\"category\":\"scenario\"},inplace=True)\n",
    "\n",
    "outlook_requirement[\"stage\"]=stage\n",
    "outlook_requirement[\"region\"]=region\n",
    "\n",
    "for demand in demand_list:\n",
    "    emission_stage = outlook_requirement[column_list]\n",
    "    #emission_stage = emission_stage[(emission_stage.scenario==scenario)]\n",
    "    emission_stage.to_csv(\"outputs/emission_by_stage_\"+stage+\"_\"+demand+\".csv\",index=False)"
   ]
  },
  {
   "cell_type": "code",
   "execution_count": 10,
   "id": "0b30e422-ac17-4d2e-b68f-966e8277d5a2",
   "metadata": {
    "tags": []
   },
   "outputs": [],
   "source": [
    "stage_list = [\"manufacturing\",\"welltotank\",\"driving\",\"battery\",\"disposal\"]\n",
    "\n",
    "for demand in demand_list:\n",
    "    emission_stages = pd.DataFrame()\n",
    "    for stage in stage_list:\n",
    "        file_path = \"outputs/emission_by_stage_\"+stage+\"_\"+demand+\".csv\"\n",
    "        emission_stage = pd.read_csv(file_path)\n",
    "        emission_stages = pd.concat([emission_stages,emission_stage])\n",
    "\n",
    "    emission_stages.to_csv( \"outputs/emission_by_stage_all_\"+demand+\".csv\",index=False)"
   ]
  }
 ],
 "metadata": {
  "kernelspec": {
   "display_name": "Python 3 (ipykernel)",
   "language": "python",
   "name": "python3"
  },
  "language_info": {
   "codemirror_mode": {
    "name": "ipython",
    "version": 3
   },
   "file_extension": ".py",
   "mimetype": "text/x-python",
   "name": "python",
   "nbconvert_exporter": "python",
   "pygments_lexer": "ipython3",
   "version": "3.7.9"
  }
 },
 "nbformat": 4,
 "nbformat_minor": 5
}
