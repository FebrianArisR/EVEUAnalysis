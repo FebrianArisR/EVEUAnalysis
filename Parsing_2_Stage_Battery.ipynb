{
 "cells": [
  {
   "cell_type": "code",
   "execution_count": 2,
   "id": "7d3af56e-98f3-4c59-a56d-c52277a72104",
   "metadata": {
    "tags": []
   },
   "outputs": [],
   "source": [
    "import numpy as np\n",
    "import pandas as pd\n",
    "\n",
    "# Suppress future warnings\n",
    "import warnings\n",
    "warnings.simplefilter(action='ignore', category=FutureWarning)"
   ]
  },
  {
   "cell_type": "code",
   "execution_count": 3,
   "id": "6c61ffe1-3814-48a2-9b9b-deb2012a64de",
   "metadata": {
    "tags": []
   },
   "outputs": [],
   "source": [
    "vehicles_list = ['ICEV', 'PHEV', 'BEV', 'FCEV']\n",
    "demand_list = ['normal','EU100','EU0']"
   ]
  },
  {
   "cell_type": "code",
   "execution_count": 4,
   "id": "53aa569a-b863-45f1-a7b6-777283fe52da",
   "metadata": {
    "tags": []
   },
   "outputs": [],
   "source": [
    "# SECOND PHASE parsing -- assume outlook stock is ready from well to tank parsing\n",
    "# translate the outlook into output requirements\n",
    "file_path = \"data/outlook_vehicles_stock.csv\"\n",
    "outlook = pd.read_csv(file_path)\n",
    "outlook = pd.melt(outlook, id_vars=['category','region','year'], value_vars=['ICEV', 'PHEV', 'BEV', 'FCEV'],\n",
    "                    var_name='vehicles', value_name='outlook')"
   ]
  },
  {
   "cell_type": "code",
   "execution_count": 5,
   "id": "835c8a4b-9a25-4c8c-9652-a5fa21ea6946",
   "metadata": {
    "tags": []
   },
   "outputs": [],
   "source": [
    "#assuming that battery life cycle = 5 years\n",
    "battery_age = 5\n",
    "outlook[\"gap_year\"] = outlook.groupby(['category','vehicles'])[\"year\"].diff()\n",
    "outlook[\"gap_stock\"] = outlook.groupby(['category','vehicles'])[\"outlook\"].diff()\n",
    "outlook[\"avg_growth\"] = outlook[\"gap_stock\"]/outlook[\"gap_year\"]\n",
    "\n",
    "outlook[\"battery_outlook\"] = outlook[\"outlook\"]-(outlook[\"avg_growth\"]*battery_age) \n",
    "outlook.loc[outlook['battery_outlook'] < 0, 'battery_outlook'] = 0\n",
    "\n",
    "outlook = outlook.drop(columns=[\"region\",\"gap_year\",\"gap_stock\",\"avg_growth\"])"
   ]
  },
  {
   "cell_type": "code",
   "execution_count": 6,
   "id": "73372e6c-c2a7-4ed1-8646-ae388665ab43",
   "metadata": {
    "tags": []
   },
   "outputs": [],
   "source": [
    "outlook.to_csv(\"data/outlook_battery_stock.csv\",index=False)"
   ]
  },
  {
   "cell_type": "code",
   "execution_count": 7,
   "id": "e00e0e6d-9214-4e59-a7ff-7b8e391e86c7",
   "metadata": {
    "tags": []
   },
   "outputs": [],
   "source": [
    "file_path = \"inputs/input_battery.csv\"\n",
    "requirement = pd.read_csv(file_path)\n",
    "requirement = pd.melt(requirement, id_vars=['Product'], value_vars=['ICEV', 'PHEV', 'BEV', 'FCEV'],\n",
    "                    var_name='vehicles', value_name='requirement')\n",
    "requirement.rename(columns={'Product': 'sector'},inplace=True)"
   ]
  },
  {
   "cell_type": "code",
   "execution_count": 8,
   "id": "ed996723-fa3f-4afe-848a-d6be4744f78c",
   "metadata": {
    "tags": []
   },
   "outputs": [],
   "source": [
    "file_path = \"inputs/input_market_shares.csv\"\n",
    "market_shares = pd.read_csv(file_path)\n",
    "market_shares = pd.melt(market_shares, id_vars=[\"scenario\",\"region\"],var_name=\"vehicles\",value_vars=vehicles_list, value_name=\"shares\")\n",
    "market_shares.rename(columns={\"scenario\":\"demand\"},inplace=True)"
   ]
  },
  {
   "cell_type": "code",
   "execution_count": 9,
   "id": "5db7be04-f62e-40ee-a09a-a7728b2ee63d",
   "metadata": {
    "tags": []
   },
   "outputs": [],
   "source": [
    "outlook_requirement = pd.merge(outlook, requirement, on='vehicles', how='outer')\n",
    "outlook_requirement_shares = pd.merge(market_shares, outlook_requirement, on='vehicles', how='outer')\n",
    "outlook_requirement_shares[\"value\"] = outlook_requirement_shares[\"battery_outlook\"] * outlook_requirement_shares[\"requirement\"] * outlook_requirement_shares[\"shares\"]"
   ]
  },
  {
   "cell_type": "code",
   "execution_count": 10,
   "id": "1d4b07a4-8d0f-4440-a698-731fcc0167dd",
   "metadata": {
    "tags": []
   },
   "outputs": [],
   "source": [
    "outlook_sectors = outlook_requirement_shares.pivot_table(index=['category','demand','region', 'year', 'sector'],\n",
    "                          columns='vehicles',\n",
    "                          values='value',\n",
    "                          aggfunc='sum')"
   ]
  },
  {
   "cell_type": "code",
   "execution_count": 11,
   "id": "6ca5472e-a90a-4c19-a00a-905041510a33",
   "metadata": {
    "tags": []
   },
   "outputs": [
    {
     "data": {
      "text/html": [
       "<div>\n",
       "<style scoped>\n",
       "    .dataframe tbody tr th:only-of-type {\n",
       "        vertical-align: middle;\n",
       "    }\n",
       "\n",
       "    .dataframe tbody tr th {\n",
       "        vertical-align: top;\n",
       "    }\n",
       "\n",
       "    .dataframe thead th {\n",
       "        text-align: right;\n",
       "    }\n",
       "</style>\n",
       "<table border=\"1\" class=\"dataframe\">\n",
       "  <thead>\n",
       "    <tr style=\"text-align: right;\">\n",
       "      <th></th>\n",
       "      <th></th>\n",
       "      <th>vehicles</th>\n",
       "      <th>BEV</th>\n",
       "      <th>FCEV</th>\n",
       "      <th>ICEV</th>\n",
       "      <th>PHEV</th>\n",
       "    </tr>\n",
       "    <tr>\n",
       "      <th>category</th>\n",
       "      <th>demand</th>\n",
       "      <th>region</th>\n",
       "      <th></th>\n",
       "      <th></th>\n",
       "      <th></th>\n",
       "      <th></th>\n",
       "    </tr>\n",
       "  </thead>\n",
       "  <tbody>\n",
       "    <tr>\n",
       "      <th rowspan=\"6\" valign=\"top\">Projection-APS</th>\n",
       "      <th rowspan=\"2\" valign=\"top\">EU0</th>\n",
       "      <th>EU</th>\n",
       "      <td>0.0000</td>\n",
       "      <td>0.000000</td>\n",
       "      <td>0.0</td>\n",
       "      <td>0.00000</td>\n",
       "    </tr>\n",
       "    <tr>\n",
       "      <th>Non EU</th>\n",
       "      <td>392121.6000</td>\n",
       "      <td>255.780000</td>\n",
       "      <td>0.0</td>\n",
       "      <td>41834.01000</td>\n",
       "    </tr>\n",
       "    <tr>\n",
       "      <th rowspan=\"2\" valign=\"top\">EU100</th>\n",
       "      <th>EU</th>\n",
       "      <td>392121.6000</td>\n",
       "      <td>255.780000</td>\n",
       "      <td>0.0</td>\n",
       "      <td>41834.01000</td>\n",
       "    </tr>\n",
       "    <tr>\n",
       "      <th>Non EU</th>\n",
       "      <td>0.0000</td>\n",
       "      <td>0.000000</td>\n",
       "      <td>0.0</td>\n",
       "      <td>0.00000</td>\n",
       "    </tr>\n",
       "    <tr>\n",
       "      <th rowspan=\"2\" valign=\"top\">normal</th>\n",
       "      <th>EU</th>\n",
       "      <td>83521.9008</td>\n",
       "      <td>54.481140</td>\n",
       "      <td>0.0</td>\n",
       "      <td>8910.64413</td>\n",
       "    </tr>\n",
       "    <tr>\n",
       "      <th>Non EU</th>\n",
       "      <td>308599.6992</td>\n",
       "      <td>201.298860</td>\n",
       "      <td>0.0</td>\n",
       "      <td>32923.36587</td>\n",
       "    </tr>\n",
       "    <tr>\n",
       "      <th rowspan=\"6\" valign=\"top\">Projection-STEPS</th>\n",
       "      <th rowspan=\"2\" valign=\"top\">EU0</th>\n",
       "      <th>EU</th>\n",
       "      <td>0.0000</td>\n",
       "      <td>0.000000</td>\n",
       "      <td>0.0</td>\n",
       "      <td>0.00000</td>\n",
       "    </tr>\n",
       "    <tr>\n",
       "      <th>Non EU</th>\n",
       "      <td>361958.4000</td>\n",
       "      <td>156.290400</td>\n",
       "      <td>0.0</td>\n",
       "      <td>45280.29000</td>\n",
       "    </tr>\n",
       "    <tr>\n",
       "      <th rowspan=\"2\" valign=\"top\">EU100</th>\n",
       "      <th>EU</th>\n",
       "      <td>361958.4000</td>\n",
       "      <td>156.290400</td>\n",
       "      <td>0.0</td>\n",
       "      <td>45280.29000</td>\n",
       "    </tr>\n",
       "    <tr>\n",
       "      <th>Non EU</th>\n",
       "      <td>0.0000</td>\n",
       "      <td>0.000000</td>\n",
       "      <td>0.0</td>\n",
       "      <td>0.00000</td>\n",
       "    </tr>\n",
       "    <tr>\n",
       "      <th rowspan=\"2\" valign=\"top\">normal</th>\n",
       "      <th>EU</th>\n",
       "      <td>77097.1392</td>\n",
       "      <td>33.289855</td>\n",
       "      <td>0.0</td>\n",
       "      <td>9644.70177</td>\n",
       "    </tr>\n",
       "    <tr>\n",
       "      <th>Non EU</th>\n",
       "      <td>284861.2608</td>\n",
       "      <td>123.000545</td>\n",
       "      <td>0.0</td>\n",
       "      <td>35635.58823</td>\n",
       "    </tr>\n",
       "  </tbody>\n",
       "</table>\n",
       "</div>"
      ],
      "text/plain": [
       "vehicles                                BEV        FCEV  ICEV         PHEV\n",
       "category         demand region                                            \n",
       "Projection-APS   EU0    EU           0.0000    0.000000   0.0      0.00000\n",
       "                        Non EU  392121.6000  255.780000   0.0  41834.01000\n",
       "                 EU100  EU      392121.6000  255.780000   0.0  41834.01000\n",
       "                        Non EU       0.0000    0.000000   0.0      0.00000\n",
       "                 normal EU       83521.9008   54.481140   0.0   8910.64413\n",
       "                        Non EU  308599.6992  201.298860   0.0  32923.36587\n",
       "Projection-STEPS EU0    EU           0.0000    0.000000   0.0      0.00000\n",
       "                        Non EU  361958.4000  156.290400   0.0  45280.29000\n",
       "                 EU100  EU      361958.4000  156.290400   0.0  45280.29000\n",
       "                        Non EU       0.0000    0.000000   0.0      0.00000\n",
       "                 normal EU       77097.1392   33.289855   0.0   9644.70177\n",
       "                        Non EU  284861.2608  123.000545   0.0  35635.58823"
      ]
     },
     "execution_count": 11,
     "metadata": {},
     "output_type": "execute_result"
    }
   ],
   "source": [
    "outlook_sectors.groupby([\"category\",\"demand\",\"region\"]).sum(\"BEV\")"
   ]
  },
  {
   "cell_type": "code",
   "execution_count": 12,
   "id": "25d786c0-cae2-4ba2-914f-a54bfab66021",
   "metadata": {
    "tags": []
   },
   "outputs": [],
   "source": [
    "scenario_list = [\"Projection-APS\",\"Projection-STEPS\"]\n",
    "year_list = [2023,2025,2030,2035]\n",
    "#scenario = scenario_list[0]\n",
    "#demand = demand_list[0]\n",
    "\n",
    "for scenario in scenario_list:\n",
    "    for demand in demand_list: \n",
    "        outlook_scenario = outlook_sectors.reset_index()\n",
    "        outlook_scenario = outlook_scenario[(outlook_scenario.category==scenario)&(outlook_scenario.demand==demand)]\n",
    "        outlook_scenario = outlook_scenario[[\"region\",\"year\",\"sector\",\"ICEV\",\"PHEV\",\"BEV\",\"FCEV\"]]\n",
    "        \n",
    "        file_name = \"data/outlook_battery_\"+scenario+\"_\"+demand+\".csv\"\n",
    "        outlook_scenario.to_csv(file_name,index=False)"
   ]
  }
 ],
 "metadata": {
  "kernelspec": {
   "display_name": "Python 3 (ipykernel)",
   "language": "python",
   "name": "python3"
  },
  "language_info": {
   "codemirror_mode": {
    "name": "ipython",
    "version": 3
   },
   "file_extension": ".py",
   "mimetype": "text/x-python",
   "name": "python",
   "nbconvert_exporter": "python",
   "pygments_lexer": "ipython3",
   "version": "3.7.9"
  }
 },
 "nbformat": 4,
 "nbformat_minor": 5
}
