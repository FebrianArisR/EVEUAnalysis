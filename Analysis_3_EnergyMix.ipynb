{
 "cells": [
  {
   "cell_type": "code",
   "execution_count": 1,
   "id": "7d3af56e-98f3-4c59-a56d-c52277a72104",
   "metadata": {
    "tags": []
   },
   "outputs": [],
   "source": [
    "import pymrio\n",
    "exio3 = pymrio.parse_exiobase3(path=\"exiobase/IOT_2022_pxp.zip\")\n",
    "import country_converter as coco\n",
    "cc = coco.CountryConverter()\n",
    "import numpy as np\n",
    "import matplotlib.pyplot as plt\n",
    "import pandas as pd\n",
    "import seaborn as sns\n",
    "\n",
    "# Suppress future warnings\n",
    "import warnings\n",
    "warnings.simplefilter(action='ignore', category=FutureWarning)"
   ]
  },
  {
   "cell_type": "code",
   "execution_count": 2,
   "id": "2f205692-cf2a-48f8-beb1-2cadcd9b1962",
   "metadata": {
    "tags": []
   },
   "outputs": [],
   "source": [
    "elec_sectors = exio3.Z.filter(like=\"Electricity\", axis=0).index.get_level_values(1).unique().to_list()\n",
    "renewables_list = ['Electricity by hydro','Electricity by wind','Electricity by biomass and waste','Electricity by solar photovoltaic','Electricity by solar thermal','Electricity by tide, wave, ocean','Electricity by Geothermal']\n",
    "other_renewables_list = ['Electricity by hydro','Electricity by biomass and waste','Electricity by solar thermal','Electricity by tide, wave, ocean','Electricity by Geothermal']\n",
    "oilothers_sectors = [\"Electricity by petroleum and other oil derivatives\",\"Electricity nec\"]\n",
    "high_emission_sectors = [\"Electricity by petroleum and other oil derivatives\",\"Electricity by coal\", \"Electricity by gas\"]\n",
    "low_emission_sectors = ['Electricity by nuclear','Electricity by hydro','Electricity by wind','Electricity by biomass and waste','Electricity by solar photovoltaic','Electricity by solar thermal','Electricity by tide, wave, ocean','Electricity by Geothermal',\"Electricity nec\"]"
   ]
  },
  {
   "cell_type": "code",
   "execution_count": 6,
   "id": "4f79a14b-a260-4573-a52c-04454a66273c",
   "metadata": {
    "tags": []
   },
   "outputs": [],
   "source": [
    "# Setting up the variables\n",
    "vehicles_list = [\"ICEV\",\"PHEV\",\"BEV\",\"FCEV\"]\n",
    "stressor = \"Carbon dioxide (CO2) IPCC categories 1 to 4 and 6 to 7 (excl land use, land use change and forestry)\"\n",
    "scenario_list = [\"Projection-APS\",\"Projection-STEPS\"]\n",
    "column_list = [\"scenario\",\"year\",\"vehicles\",\"stage\",\"region\",\"emission\"]\n",
    "sector_column_list = [\"scenario\",\"year\",\"vehicles\",\"stage\",\"region\",\"sector\",\"emission\"]\n",
    "\n",
    "emix_list = [\"ori\",\"APS2030\"]\n",
    "demand_list = ['normal','EU100','EU0']\n",
    "year_list = [2023,2025,2030,2035]\n"
   ]
  },
  {
   "cell_type": "code",
   "execution_count": 7,
   "id": "d8ab2acd-a0f2-4ae0-96d7-34685ebeeb64",
   "metadata": {
    "tags": []
   },
   "outputs": [],
   "source": [
    "Z_elec = exio3.Z.filter(like=\"Electricity\", axis=0)\n",
    "A_elec = exio3.A.filter(like=\"Electricity\", axis=0)"
   ]
  },
  {
   "cell_type": "code",
   "execution_count": 8,
   "id": "6fa79342-47b1-4170-acfd-e3856d830d0c",
   "metadata": {
    "tags": []
   },
   "outputs": [],
   "source": [
    "A_elec.to_csv(\"data/outlook_emix_actual.csv\") # for comparison purpose in exploration"
   ]
  },
  {
   "cell_type": "code",
   "execution_count": 6,
   "id": "e113f3a5-03a0-4d13-8b4c-899110b030b4",
   "metadata": {
    "tags": []
   },
   "outputs": [],
   "source": [
    "# read outlook \n",
    "# input it as a new A\n",
    "file_path = \"data/outlook_emix_AnnouncedPledgesScenario_2030.csv\"\n",
    "outlook_final = pd.read_csv(file_path,header=[0, 1], index_col=[0, 1])"
   ]
  },
  {
   "cell_type": "code",
   "execution_count": 7,
   "id": "72b3ce35-3ee1-47ef-a4a5-3a2309ee6d95",
   "metadata": {
    "tags": []
   },
   "outputs": [],
   "source": [
    "#update with new A based on the ratio of each electricity product with total total electricity requirement\n",
    "A_elec_total = A_elec.groupby(level=0).sum()\n",
    "A_elec_update = outlook_final.mul(A_elec_total)\n",
    "\n",
    "A = exio3.A.copy()\n",
    "exio3_ori = exio3.copy()\n",
    "A.update(A_elec_update) # the new updated A"
   ]
  },
  {
   "cell_type": "code",
   "execution_count": 8,
   "id": "269502bc-2062-44ac-9491-6780043a15ff",
   "metadata": {
    "tags": []
   },
   "outputs": [],
   "source": [
    "def calc_emission(vehicles,outlook): \n",
    "    exio3.Y.iloc[:,:] = 0\n",
    "    exio3.Y[\"EU\",vehicles] = outlook[vehicles]\n",
    "    exio3.Y.fillna(0,inplace=True)\n",
    "    \n",
    "    # calculate with new demand\n",
    "    # coeff : A, L, S, M should be the same with original\n",
    "    exio3.x = None # reset the output\n",
    "    exio3.Z = None  # expect new transaction to satisfy the new the output\n",
    "    exio3.impacts.D_cba = None # reset foot print cba, others are not synch because they consider the emission from final demand\n",
    "    exio3.impacts.F = None\n",
    "    exio3.calc_all()\n",
    "    \n",
    "    diag_emission = None\n",
    "    #become a matrix F of regional - sector X regional - sector \n",
    "    diag_emission = exio3.impacts.diag_stressor(stressor)\n",
    "    \n",
    "    exio3.emission  = diag_emission\n",
    "    exio3.calc_all()\n",
    "    \n",
    "    #print(exio3.meta)\n",
    "    #print(\"done calculation for \"+vehicles)\n",
    "    emission = exio3.emission.D_cba\n",
    "    return emission"
   ]
  },
  {
   "cell_type": "code",
   "execution_count": 9,
   "id": "807220c7-e14b-4844-81c3-5092121d306f",
   "metadata": {
    "tags": []
   },
   "outputs": [],
   "source": [
    "def calc_emission_stage(stage):\n",
    "    # read new outlook \n",
    "    file_path = \"data/outlook_\"+stage+\"_\"+scenario+\".csv\"\n",
    "    if ((stage==\"manufacturing\") | (stage==\"battery\")): #manufacturing and battery stage will depend on where the stage will be produced\n",
    "           file_path = \"data/outlook_\"+stage+\"_\"+scenario+\"_\"+demand+\".csv\"\n",
    "    \n",
    "    #---------------------------------\n",
    "    outlook = pd.read_csv(file_path)\n",
    "    outlook.set_index(keys=[\"year\",\"region\",\"sector\"],inplace=True)\n",
    "\n",
    "    #start collectimg emission data\n",
    "    emission_stage = pd.DataFrame(columns=column_list)\n",
    "    emission_sectors = pd.DataFrame(columns=sector_column_list)\n",
    "\n",
    "    for year in year_list: \n",
    "        for vehicles in vehicles_list:\n",
    "            emission = calc_emission(vehicles,outlook.loc[year])\n",
    "            \n",
    "            # group by sectors\n",
    "            emission_sector = emission.sum(axis=1).to_frame().reset_index()\n",
    "            emission_sector.rename(columns = {0:\"emission\"}, inplace=True)\n",
    "            emission_sector[\"stage\"] = stage\n",
    "            emission_sector[\"scenario\"] =  scenario\n",
    "            emission_sector[\"year\"] =  year\n",
    "            emission_sector[\"vehicles\"] =  vehicles\n",
    "            ## add to overall record\n",
    "            emission_sectors = pd.concat([emission_sectors,emission_sector],axis=0)\n",
    "            \n",
    "            \n",
    "            # group by regions\n",
    "            emission_regions = emission.groupby(level=0).sum()\n",
    "            emission_regions_total = emission_regions.sum(axis=1).to_frame().reset_index()\n",
    "            emission_regions_total.rename(columns = {0:\"emission\"}, inplace=True)\n",
    "            emission_regions_total[\"stage\"] = stage\n",
    "            emission_regions_total[\"scenario\"] =  scenario\n",
    "            emission_regions_total[\"year\"] =  year\n",
    "            emission_regions_total[\"vehicles\"] =  vehicles\n",
    "            \n",
    "            ## add to overall record\n",
    "            emission_stage = pd.concat([emission_stage,emission_regions_total],axis=0) \n",
    "    \n",
    "    emission_sectors.reset_index(drop=True,inplace=True) \n",
    "    emission_sectors.to_csv(\"outputs/emission_emix_sectors_\"+stage+\"_\"+demand+\"_\"+emix+\".csv\",index=False)\n",
    "   \n",
    "    #emission_stage.reset_index(drop=True,inplace=True) \n",
    "    #emission_stage.to_csv(\"emission_emix_regions_\"+stage+\"_\"+demand+\"_\"+emix+\".csv\",index=False)"
   ]
  },
  {
   "cell_type": "code",
   "execution_count": 10,
   "id": "e683dc15-a8a7-4383-9960-9311af51a610",
   "metadata": {
    "tags": []
   },
   "outputs": [
    {
     "data": {
      "text/plain": [
       "<pymrio.core.mriosystem.IOSystem at 0x7f92d8ccea90>"
      ]
     },
     "execution_count": 10,
     "metadata": {},
     "output_type": "execute_result"
    }
   ],
   "source": [
    "exio3.A = A\n",
    "exio3.Z = None\n",
    "exio3.calc_system() # calc again whether the Z result consistent with new A\n",
    "\n",
    "#still using EU vs Non EU\n",
    "region_agg = coco.agg_conc(original_countries='EXIO3', aggregates=[\"EU\"], missing_countries='Non EU', merge_multiple_string=None)\n",
    "exio3.aggregate(region_agg = region_agg)\n",
    "exio3.calc_system()"
   ]
  },
  {
   "cell_type": "code",
   "execution_count": 11,
   "id": "9224b10c-b58f-46fe-a3ef-580ebdc32f73",
   "metadata": {},
   "outputs": [],
   "source": [
    "# calculate every stage using new energy mix \n",
    "emix = emix_list[1] # energy mix : APS 2030 \n",
    "scenario = scenario_list[0] # vehicle sales : APS, 2030\n",
    "demand = demand_list[0] # vehicle  sales demand : normal based on actual market\n",
    "\n",
    "calc_emission_stage(stage=\"manufacturing\")\n",
    "calc_emission_stage(stage=\"welltotank\")\n",
    "calc_emission_stage(stage=\"battery\")\n",
    "calc_emission_stage(stage=\"disposal\")"
   ]
  },
  {
   "cell_type": "code",
   "execution_count": 12,
   "id": "b8b64bd9-4f3a-4109-92df-9368d476a259",
   "metadata": {
    "tags": []
   },
   "outputs": [
    {
     "data": {
      "text/plain": [
       "<pymrio.core.mriosystem.IOSystem at 0x7f92cae5b790>"
      ]
     },
     "execution_count": 12,
     "metadata": {},
     "output_type": "execute_result"
    }
   ],
   "source": [
    "#back to original energy mix\n",
    "emix = emix_list[0]\n",
    "exio3 = exio3_ori.copy()\n",
    "exio3.aggregate(region_agg = region_agg)\n",
    "exio3.calc_system()"
   ]
  },
  {
   "cell_type": "code",
   "execution_count": 13,
   "id": "aad2cc24-9f7a-44a0-b6f7-f4ad5caf46dc",
   "metadata": {
    "tags": []
   },
   "outputs": [],
   "source": [
    "calc_emission_stage(stage=\"manufacturing\")\n",
    "calc_emission_stage(stage=\"welltotank\")\n",
    "calc_emission_stage(stage=\"battery\")\n",
    "calc_emission_stage(stage=\"disposal\")"
   ]
  },
  {
   "cell_type": "code",
   "execution_count": 14,
   "id": "27c744c8-50e3-474d-ab09-0b29553feddc",
   "metadata": {
    "tags": []
   },
   "outputs": [
    {
     "name": "stdout",
     "output_type": "stream",
     "text": [
      "ori\n",
      "APS2030\n"
     ]
    }
   ],
   "source": [
    "# combine all the emission emix files\n",
    "stage_list = [\"manufacturing\",\"welltotank\",\"driving\",\"battery\",\"disposal\"]\n",
    "scenario = scenario_list[0] # vehicle sales : APS, 2030\n",
    "demand = demand_list[0] # vehicle  sales demand : normal based on actual market\n",
    "year = 2030\n",
    "\n",
    "\n",
    "# input all emix scenario : APS2030 and original \n",
    "emission_stages = pd.DataFrame()\n",
    "for emix in emix_list:\n",
    "    print(emix)\n",
    "    for stage in stage_list:    \n",
    "        if (stage == \"driving\") :\n",
    "            file_path = \"outputs/emission_by_stage_\"+stage+\"_\"+demand+\".csv\" # for driving phase, there is no impact of energy mix, use emission result from previous analysis\n",
    "        else : \n",
    "            file_path = \"outputs/emission_emix_sectors_\"+stage+\"_\"+demand+\"_\"+emix+\".csv\"\n",
    "            \n",
    "        emission_stage = pd.read_csv(file_path)\n",
    "        \n",
    "        emission_stage = emission_stage[(emission_stage.year == year) & (emission_stage.scenario == \"Projection-APS\")]\n",
    "        emission_stage[\"emix\"] = emix\n",
    "        emission_stages = pd.concat([emission_stages,emission_stage])\n",
    "        \n",
    "emission_stages = emission_stages.groupby([\"scenario\",\"year\",\"vehicles\",\"stage\",\"region\",\"emix\"]).sum().reset_index()\n",
    "emission_stages.to_csv( \"outputs/emission_emix_all_\"+scenario+\"_\"+demand+\"_\"+str(year)+\".csv\",index=False)"
   ]
  }
 ],
 "metadata": {
  "kernelspec": {
   "display_name": "Python 3 (ipykernel)",
   "language": "python",
   "name": "python3"
  },
  "language_info": {
   "codemirror_mode": {
    "name": "ipython",
    "version": 3
   },
   "file_extension": ".py",
   "mimetype": "text/x-python",
   "name": "python",
   "nbconvert_exporter": "python",
   "pygments_lexer": "ipython3",
   "version": "3.7.9"
  }
 },
 "nbformat": 4,
 "nbformat_minor": 5
}
