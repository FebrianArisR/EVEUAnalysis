{
 "cells": [
  {
   "cell_type": "code",
   "execution_count": 1,
   "id": "7d3af56e-98f3-4c59-a56d-c52277a72104",
   "metadata": {
    "tags": []
   },
   "outputs": [],
   "source": [
    "import numpy as np\n",
    "import pandas as pd\n",
    "\n",
    "# Suppress future warnings\n",
    "import warnings\n",
    "warnings.simplefilter(action='ignore', category=FutureWarning)"
   ]
  },
  {
   "cell_type": "code",
   "execution_count": 2,
   "id": "53aa569a-b863-45f1-a7b6-777283fe52da",
   "metadata": {
    "tags": []
   },
   "outputs": [],
   "source": [
    "# SECOND PHASE parsing\n",
    "# translate the outlook into output requirements\n",
    "file_path = \"data/outlook_vehicles_stock.csv\"\n",
    "outlook = pd.read_csv(file_path)\n",
    "outlook = pd.melt(outlook, id_vars=['category','region','year'], value_vars=['ICEV', 'PHEV', 'BEV', 'FCEV'],\n",
    "                    var_name='vehicle', value_name='outlook')"
   ]
  },
  {
   "cell_type": "code",
   "execution_count": 3,
   "id": "e00e0e6d-9214-4e59-a7ff-7b8e391e86c7",
   "metadata": {
    "tags": []
   },
   "outputs": [],
   "source": [
    "file_path = \"inputs/input_welltotank.csv\"\n",
    "requirement = pd.read_csv(file_path)\n",
    "requirement = pd.melt(requirement, id_vars=['Product'], value_vars=['ICEV', 'PHEV', 'BEV', 'FCEV'],\n",
    "                    var_name='vehicle', value_name='requirement')\n",
    "requirement.rename(columns={'Product': 'sector'},inplace=True)"
   ]
  },
  {
   "cell_type": "code",
   "execution_count": 4,
   "id": "3bcd93a2-e610-4989-b5d5-e0aee7534969",
   "metadata": {
    "tags": []
   },
   "outputs": [],
   "source": [
    "outlook_requirement = pd.merge(outlook, requirement, on='vehicle', how='outer')\n",
    "outlook_requirement[\"value\"] = outlook_requirement[\"outlook\"] * outlook_requirement[\"requirement\"]"
   ]
  },
  {
   "cell_type": "code",
   "execution_count": 5,
   "id": "1d4b07a4-8d0f-4440-a698-731fcc0167dd",
   "metadata": {
    "tags": []
   },
   "outputs": [],
   "source": [
    "outlook_sectors = outlook_requirement.pivot_table(index=['category', 'region', 'year', 'sector'],\n",
    "                          columns='vehicle',\n",
    "                          values='value',\n",
    "                          aggfunc='sum')"
   ]
  },
  {
   "cell_type": "code",
   "execution_count": 6,
   "id": "25d786c0-cae2-4ba2-914f-a54bfab66021",
   "metadata": {
    "tags": []
   },
   "outputs": [],
   "source": [
    "scenario_list = [\"Projection-APS\",\"Projection-STEPS\"]\n",
    "#scenario = scenario_list[0]\n",
    "for scenario in scenario_list:\n",
    "    outlook_scenario = outlook_sectors.reset_index()\n",
    "    outlook_scenario = outlook_scenario[(outlook_scenario.category==scenario)&(outlook_scenario.region==\"Europe\")]\n",
    "    outlook_scenario[\"region\"] = \"EU\"\n",
    "    outlook_scenario = outlook_scenario[[\"year\",\"region\",\"sector\",\"ICEV\",\"PHEV\",\"BEV\",\"FCEV\"]]\n",
    "\n",
    "    file_name = \"data/outlook_welltotank_\"+scenario+\".csv\"\n",
    "    outlook_scenario.to_csv(file_name)"
   ]
  }
 ],
 "metadata": {
  "kernelspec": {
   "display_name": "Python 3 (ipykernel)",
   "language": "python",
   "name": "python3"
  },
  "language_info": {
   "codemirror_mode": {
    "name": "ipython",
    "version": 3
   },
   "file_extension": ".py",
   "mimetype": "text/x-python",
   "name": "python",
   "nbconvert_exporter": "python",
   "pygments_lexer": "ipython3",
   "version": "3.7.9"
  }
 },
 "nbformat": 4,
 "nbformat_minor": 5
}
