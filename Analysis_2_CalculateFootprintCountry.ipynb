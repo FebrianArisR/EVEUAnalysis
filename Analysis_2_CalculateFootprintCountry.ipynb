{
 "cells": [
  {
   "cell_type": "code",
   "execution_count": 1,
   "id": "61bb5b97-2201-4262-9dab-a17da24e79bb",
   "metadata": {
    "tags": []
   },
   "outputs": [],
   "source": [
    "import pymrio\n",
    "exio3 = pymrio.parse_exiobase3(path=\"exiobase/IOT_2022_pxp.zip\")\n",
    "import country_converter as coco\n",
    "cc = coco.CountryConverter()\n",
    "import numpy as np\n",
    "import matplotlib.pyplot as plt\n",
    "import pandas as pd\n",
    "import seaborn as sns\n",
    "\n",
    "# Suppress future warnings\n",
    "import warnings\n",
    "warnings.simplefilter(action='ignore', category=FutureWarning)"
   ]
  },
  {
   "cell_type": "code",
   "execution_count": 3,
   "id": "fd98c573-0412-477d-92c9-6533cc20b3ed",
   "metadata": {
    "tags": []
   },
   "outputs": [],
   "source": [
    "exio3.calc_all()\n",
    "emptyY = exio3.Y.copy()\n",
    "emptyY.iloc[:,:] = 0"
   ]
  },
  {
   "cell_type": "code",
   "execution_count": 4,
   "id": "0538e6c7-5206-4966-ba75-324a3ef49658",
   "metadata": {
    "tags": []
   },
   "outputs": [],
   "source": [
    "# Setting up the variables\n",
    "vehicles_list = [\"ICEV\",\"PHEV\",\"BEV\",\"FCEV\"]\n",
    "stressor = \"Carbon dioxide (CO2) IPCC categories 1 to 4 and 6 to 7 (excl land use, land use change and forestry)\"\n",
    "scenario_list = [\"Projection-APS\"]\n",
    "year_list = [2030]\n",
    "demand_list = ['normal']\n",
    "demand = demand_list[0]\n",
    "column_list = [\"product\",\"vehicles\",\"stage\",\"region\",\"sector\",\"emission\"]\n",
    "stage = \"manufacturing\"\n",
    "scenario = scenario_list[0]"
   ]
  },
  {
   "cell_type": "code",
   "execution_count": 5,
   "id": "6460d827-b90f-4c8c-817a-62b246c4ee10",
   "metadata": {
    "tags": []
   },
   "outputs": [],
   "source": [
    "def calc_emission(vehicles,country,outlook): \n",
    "    demandY = emptyY.copy()\n",
    "    \n",
    "    demandY[\"NL\",vehicles] = outlook[vehicles] ## NL as a place holder for european demand, we donot concern on which country the EV will be consumed, only the aggregated EU demand\n",
    "    demandY.fillna(0,inplace=True)\n",
    "    \n",
    "    exio3.Y = demandY\n",
    "    \n",
    "    # calculate with new demand\n",
    "    # coeff : A, L, S, M should be the same with original\n",
    "    exio3.x = None # reset the output\n",
    "    exio3.Z = None  # expect new transaction to satisfy the new the output\n",
    "    exio3.impacts.D_cba = None # reset foot print cba, others are not synch because they consider the emission from final demand\n",
    "    exio3.impacts.F = None\n",
    "    exio3.calc_all()\n",
    "     \n",
    "    diag_emission = None\n",
    "    #become a matrix F of regional - sector X regional - sector \n",
    "    diag_emission = exio3.impacts.diag_stressor(stressor)\n",
    "    diag_emission.F\n",
    "    \n",
    "    exio3.emission  = diag_emission\n",
    "    exio3.calc_all()\n",
    "    \n",
    "    #print(exio3.meta)\n",
    "    print(\"done calculation for \"+vehicles+\" product of \"+country)\n",
    "    emission = exio3.emission.D_cba\n",
    "    return emission"
   ]
  },
  {
   "cell_type": "code",
   "execution_count": 6,
   "id": "c7895819-7ca0-46ee-8ae3-fcd965a02067",
   "metadata": {
    "tags": []
   },
   "outputs": [
    {
     "name": "stdout",
     "output_type": "stream",
     "text": [
      "data/outlook_footprint_manufacturing_country.csv\n"
     ]
    },
    {
     "data": {
      "text/plain": [
       "['CN', 'CZ', 'DE', 'FR', 'IT', 'KR', 'RO', 'SE', 'US']"
      ]
     },
     "execution_count": 6,
     "metadata": {},
     "output_type": "execute_result"
    }
   ],
   "source": [
    "# read new outlook \n",
    "file_path = \"data/outlook_footprint_\"+stage+\"_country.csv\"\n",
    "\n",
    "print(file_path)\n",
    "#---------------------------------\n",
    "outlook_all = pd.read_csv(file_path)\n",
    "\n",
    "country_list = outlook_all[\"region\"].unique().tolist()\n",
    "country_list"
   ]
  },
  {
   "cell_type": "code",
   "execution_count": 7,
   "id": "8d404943-7212-4823-b8a3-69c8e20ba8cd",
   "metadata": {
    "tags": []
   },
   "outputs": [],
   "source": [
    "outlook_pivot = outlook_all.pivot_table(index=[\"region\",\"sector\"],columns=\"vehicles\",values=\"value\")"
   ]
  },
  {
   "cell_type": "code",
   "execution_count": 10,
   "id": "0cea9c39-d700-43a4-8cd5-cee49197e098",
   "metadata": {
    "tags": []
   },
   "outputs": [
    {
     "name": "stdout",
     "output_type": "stream",
     "text": [
      "done calculation for ICEV product of CN\n",
      "done calculation for PHEV product of CN\n",
      "done calculation for BEV product of CN\n",
      "done calculation for FCEV product of CN\n",
      "done calculation for ICEV product of CZ\n",
      "done calculation for PHEV product of CZ\n",
      "done calculation for BEV product of CZ\n",
      "done calculation for FCEV product of CZ\n",
      "done calculation for ICEV product of DE\n",
      "done calculation for PHEV product of DE\n",
      "done calculation for BEV product of DE\n",
      "done calculation for FCEV product of DE\n",
      "done calculation for ICEV product of FR\n",
      "done calculation for PHEV product of FR\n",
      "done calculation for BEV product of FR\n",
      "done calculation for FCEV product of FR\n",
      "done calculation for ICEV product of IT\n",
      "done calculation for PHEV product of IT\n",
      "done calculation for BEV product of IT\n",
      "done calculation for FCEV product of IT\n",
      "done calculation for ICEV product of KR\n",
      "done calculation for PHEV product of KR\n",
      "done calculation for BEV product of KR\n",
      "done calculation for FCEV product of KR\n",
      "done calculation for ICEV product of RO\n",
      "done calculation for PHEV product of RO\n",
      "done calculation for BEV product of RO\n",
      "done calculation for FCEV product of RO\n",
      "done calculation for ICEV product of SE\n",
      "done calculation for PHEV product of SE\n",
      "done calculation for BEV product of SE\n",
      "done calculation for FCEV product of SE\n",
      "done calculation for ICEV product of US\n",
      "done calculation for PHEV product of US\n",
      "done calculation for BEV product of US\n",
      "done calculation for FCEV product of US\n"
     ]
    }
   ],
   "source": [
    "#start collectimg emission data\n",
    "import gc\n",
    "\n",
    "for country in country_list:\n",
    "    emission_country = pd.DataFrame(columns=column_list)\n",
    "    outlook = outlook_pivot[outlook_pivot.index.get_level_values(\"region\")==country]\n",
    "        \n",
    "    for vehicles in vehicles_list:\n",
    "        emission = calc_emission(vehicles, country, outlook)\n",
    "        emission_regions_total = emission.sum(axis=1).to_frame().reset_index()\n",
    "        emission_regions_total.rename(columns = {0:\"emission\"}, inplace=True)\n",
    "        emission_regions_total[\"stage\"] = stage\n",
    "        emission_regions_total[\"vehicles\"] =  vehicles\n",
    "        emission_regions_total[\"product\"] =  country\n",
    "        emission_country = pd.concat([emission_country,emission_regions_total],axis=0) \n",
    "        del emission_regions_total\n",
    "        gc.collect()\n",
    "    \n",
    "    emission_country.to_csv(\"outputs/emission_product_country_\"+country+\".csv\",index=False)    \n",
    "        \n",
    "#emission_stage.reset_index(drop=True,inplace=True) "
   ]
  },
  {
   "cell_type": "code",
   "execution_count": null,
   "id": "0ee02817-a0e3-4940-95f9-e530f076a533",
   "metadata": {},
   "outputs": [],
   "source": [
    "emission_stage = pd.DataFrame(columns=column_list)\n",
    "\n",
    "for country in country_list:\n",
    "    emission_regions_total. = pd.read_csv(\"outputs/emission_product_country_\"+country+\".csv\")\n",
    "    emission_stage = pd.concat([emission_stage,emission_regions_total],axis=0) \n",
    "\n",
    "emission_stage"
   ]
  },
  {
   "cell_type": "code",
   "execution_count": 13,
   "id": "36dc719d-dd49-431c-aeba-99a114dee11f",
   "metadata": {},
   "outputs": [],
   "source": [
    "import os\n",
    "file_path = \"outputs/emission_product_all_country.csv\" \n",
    "try:\n",
    "    os.remove(file_path)\n",
    "except FileNotFoundError:\n",
    "    print(f\"{file_path} not yet exist.\")\n",
    "\n",
    "for country in country_list:\n",
    "    file_path_country = \"outputs/emission_product_country_\" + country + \".csv\"\n",
    "    emission_country = pd.read_csv(file_path_country)\n",
    "    header_bool = not os.path.exists(file_path)\n",
    "    emission_country.to_csv(file_path, mode='a', index=False, header=header_bool)\n",
    "    "
   ]
  }
 ],
 "metadata": {
  "kernelspec": {
   "display_name": "Python 3 (ipykernel)",
   "language": "python",
   "name": "python3"
  },
  "language_info": {
   "codemirror_mode": {
    "name": "ipython",
    "version": 3
   },
   "file_extension": ".py",
   "mimetype": "text/x-python",
   "name": "python",
   "nbconvert_exporter": "python",
   "pygments_lexer": "ipython3",
   "version": "3.7.9"
  }
 },
 "nbformat": 4,
 "nbformat_minor": 5
}
