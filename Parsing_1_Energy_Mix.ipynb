{
 "cells": [
  {
   "cell_type": "code",
   "execution_count": 1,
   "id": "7d3af56e-98f3-4c59-a56d-c52277a72104",
   "metadata": {
    "tags": []
   },
   "outputs": [],
   "source": [
    "import pymrio\n",
    "exio3 = pymrio.parse_exiobase3(path=\"exiobase/IOT_2022_pxp.zip\")\n",
    "import country_converter as coco\n",
    "cc = coco.CountryConverter()\n",
    "import numpy as np\n",
    "import pandas as pd\n",
    "\n",
    "# Suppress future warnings\n",
    "import warnings\n",
    "warnings.simplefilter(action='ignore', category=FutureWarning)"
   ]
  },
  {
   "cell_type": "code",
   "execution_count": 2,
   "id": "96035237-8591-4ab9-925f-200f8ccafe27",
   "metadata": {
    "tags": []
   },
   "outputs": [],
   "source": [
    "# read IEA data    \n",
    "file_path = \"inputs/WEO2023_AnnexA_Free_Dataset_Regions.csv\"\n",
    "outlook = pd.read_csv(file_path)\n",
    "outlook.drop('PUBLICATION', axis=1, inplace=True)\n",
    "outlook = outlook.set_index(['SCENARIO', 'CATEGORY', 'PRODUCT', 'FLOW', 'UNIT', 'REGION', 'YEAR'])\n",
    "outlook = outlook.loc[outlook.index.get_level_values('FLOW') == 'Electricity generation']\n",
    "outlook_product = pd.pivot_table(outlook, values='VALUE', index=['SCENARIO', 'REGION', 'YEAR'], columns='PRODUCT', aggfunc='sum')"
   ]
  },
  {
   "cell_type": "code",
   "execution_count": 3,
   "id": "fa57c817-28a3-46f9-a1c4-f63e42e2e5d7",
   "metadata": {
    "tags": []
   },
   "outputs": [],
   "source": [
    "#start completing the missing outlook to match the electricity product in EXIOBASE\n",
    "outlook_product[\"Other Renewables\"] = outlook_product[\"Renewables\"] -  (outlook_product[\"Solar PV\"] + outlook_product[\"Wind\"])\n",
    "outlook_product[\"Others\"] = outlook_product[\"Total\"] - (outlook_product[\"Coal\"] + outlook_product[\"Natural gas\"] + outlook_product[\"Nuclear\"] + outlook_product[\"Renewables\"])"
   ]
  },
  {
   "cell_type": "code",
   "execution_count": 4,
   "id": "2f205692-cf2a-48f8-beb1-2cadcd9b1962",
   "metadata": {
    "tags": []
   },
   "outputs": [],
   "source": [
    "#List variables that will be usefull during parsing\n",
    "elec_sectors = exio3.Z.filter(like=\"Electricity\", axis=0).index.get_level_values(1).unique().to_list()\n",
    "renewables_list = ['Electricity by hydro','Electricity by wind','Electricity by biomass and waste','Electricity by solar photovoltaic','Electricity by solar thermal','Electricity by tide, wave, ocean','Electricity by Geothermal']\n",
    "other_renewables_list = ['Electricity by hydro','Electricity by biomass and waste','Electricity by solar thermal','Electricity by tide, wave, ocean','Electricity by Geothermal']\n",
    "oilothers_sectors = [\"Electricity by petroleum and other oil derivatives\",\"Electricity nec\"]\n",
    "high_emission_sectors = [\"Electricity by petroleum and other oil derivatives\",\"Electricity by coal\", \"Electricity by gas\"]\n",
    "low_emission_sectors = ['Electricity by nuclear','Electricity by hydro','Electricity by wind','Electricity by biomass and waste','Electricity by solar photovoltaic','Electricity by solar thermal','Electricity by tide, wave, ocean','Electricity by Geothermal',\"Electricity nec\"]"
   ]
  },
  {
   "cell_type": "code",
   "execution_count": 5,
   "id": "ef01a73d-2fb1-439b-8bdc-f4b95ef2a080",
   "metadata": {
    "tags": []
   },
   "outputs": [
    {
     "name": "stderr",
     "output_type": "stream",
     "text": [
      "WARNING:country_converter.country_converter:Africa not found in regex\n",
      "WARNING:country_converter.country_converter:Asia Pacific not found in regex\n",
      "WARNING:country_converter.country_converter:Central and South America not found in regex\n",
      "WARNING:country_converter.country_converter:Eurasia not found in regex\n",
      "WARNING:country_converter.country_converter:Europe not found in regex\n",
      "WARNING:country_converter.country_converter:European Union not found in regex\n",
      "WARNING:country_converter.country_converter:Middle East not found in regex\n",
      "WARNING:country_converter.country_converter:North America not found in regex\n",
      "WARNING:country_converter.country_converter:Southeast Asia not found in regex\n",
      "WARNING:country_converter.country_converter:World not found in regex\n"
     ]
    }
   ],
   "source": [
    "region_list = list(dict.fromkeys(outlook_product.index.get_level_values(\"REGION\")))\n",
    "standard_names = coco.convert(names=region_list, to='EXIO3')\n",
    "country_map = pd.DataFrame({   \n",
    "    \"region\": region_list,\n",
    "    \"exio3\": standard_names\n",
    "})\n",
    "country_map.set_index(['region'],inplace=True)"
   ]
  },
  {
   "cell_type": "code",
   "execution_count": 6,
   "id": "17a58e0b-abdd-438e-a816-50516d258bd5",
   "metadata": {
    "tags": []
   },
   "outputs": [],
   "source": [
    "#setting the available direct values (coal, gas, nuclear, wind, solar) from outlook\n",
    "outlook_product[elec_sectors]=0\n",
    "outlook_product[\"Electricity by coal\"]=outlook_product[\"Coal\"]\n",
    "outlook_product[\"Electricity by gas\"]=outlook_product[\"Natural gas\"]\n",
    "outlook_product[\"Electricity by nuclear\"]=outlook_product[\"Nuclear\"]\n",
    "outlook_product[\"Electricity by wind\"]=outlook_product[\"Wind\"]\n",
    "outlook_product[\"Electricity by solar photovoltaic\"]=outlook_product[\"Solar PV\"]"
   ]
  },
  {
   "cell_type": "code",
   "execution_count": 7,
   "id": "654e8840-5cbe-49ad-b3af-2e4c6a676f80",
   "metadata": {
    "tags": []
   },
   "outputs": [],
   "source": [
    "x_elec = exio3.x.filter(like=\"Electricity\", axis=0)\n",
    "\n",
    "#distributing outlook of other renewables based values from outlook from specified regionals\n",
    "x_elec_other_renewables = x_elec[x_elec.index.get_level_values('sector').isin(other_renewables_list)]\n",
    "x_elec_other_renewables_total = x_elec_other_renewables.groupby(level=0).sum()\n",
    "x_elec_other_renewables_normalized = x_elec_other_renewables.div(x_elec_other_renewables_total)\n",
    "\n",
    "#distributing outlook of other electricity (oil and nec) based values from outlook from specified regionals\n",
    "x_elec_oilothers = x_elec[x_elec.index.get_level_values('sector').isin(oilothers_sectors)]\n",
    "x_elec_oilothers_total = x_elec_oilothers.groupby(level=0).sum()\n",
    "x_elec_oilothers_normalized = x_elec_oilothers.div(x_elec_oilothers_total)\n",
    "\n",
    "for index, row in outlook_product.iterrows():\n",
    "    source = country_map.loc[index[1]][\"exio3\"]\n",
    "    if source!= \"not found\":\n",
    "        for sector in other_renewables_list: # for other renewables\n",
    "            proportion = x_elec_other_renewables_normalized.loc[source,sector][\"indout\"]\n",
    "            outlook_product.loc[index,sector] = row[\"Other Renewables\"] * proportion\n",
    "        for sector in oilothers_sectors: # for oil and others/nec \n",
    "            proportion = x_elec_oilothers_normalized.loc[source,sector][\"indout\"]\n",
    "            outlook_product.loc[index,sector] = row[\"Others\"] * proportion"
   ]
  },
  {
   "cell_type": "code",
   "execution_count": 8,
   "id": "ef8cdc9e-5140-4d2c-ae19-33dddbe80f22",
   "metadata": {
    "tags": []
   },
   "outputs": [
    {
     "data": {
      "text/plain": [
       "<pymrio.core.mriosystem.IOSystem at 0x7faef04ad6d0>"
      ]
     },
     "execution_count": 8,
     "metadata": {},
     "output_type": "execute_result"
    }
   ],
   "source": [
    "# FIRST round aggregation\n",
    "region_agg = coco.agg_conc(original_countries='EXIO3', \n",
    "                           aggregates=[\"EU\",\n",
    "                                       {\"ZA\" : \"Africa\",\n",
    "                                        \"WF\" : \"Africa\",\n",
    "                                        \"MX\" : \"Central and South America\",\n",
    "                                        \"WL\" : \"Central and South America\",\n",
    "                                        \"BR\" : \"Central and South America\",\n",
    "                                        \"CA\" : \"North America\",\n",
    "                                        \"US\" : \"North America\",\n",
    "                                        \"WA\" : \"Asia Pacific\",\n",
    "                                        \"AU\" : \"Asia Pacific\",\n",
    "                                        \"JP\" : \"Asia Pacific\",\n",
    "                                        \"CN\" : \"Asia Pacific\",\n",
    "                                        \"KR\" : \"Asia Pacific\",\n",
    "                                        \"IN\" : \"Asia Pacific\",\n",
    "                                        \"TW\" : \"Asia Pacific\",\n",
    "                                        \"ID\" : \"Asia Pacific\",\n",
    "                                        \"WM\" : \"Middle East\"\n",
    "                                       }],\n",
    "                           missing_countries=True, \n",
    "                           merge_multiple_string=None)\n",
    "\n",
    "exio3agg = exio3.aggregate(region_agg = region_agg,inplace=False)\n",
    "exio3agg.calc_all()"
   ]
  },
  {
   "cell_type": "code",
   "execution_count": 9,
   "id": "998e8e93-ef42-4f6a-9a4a-fc825b7ce62f",
   "metadata": {
    "tags": []
   },
   "outputs": [],
   "source": [
    "country_map[\"exio3\"] = \"not found\"\n",
    "country_map.loc[\"Africa\"][\"exio3\"] = \"Africa\"\n",
    "country_map.loc[\"Asia Pacific\"][\"exio3\"] = \"Asia Pacific\"\n",
    "country_map.loc[\"Central and South America\"][\"exio3\"] = \"Central and South America\"\n",
    "country_map.loc[\"European Union\"][\"exio3\"] = \"EU\"\n",
    "country_map.loc[\"Middle East\"][\"exio3\"] = \"Middle East\"\n",
    "country_map.loc[\"North America\"][\"exio3\"] = \"North America\""
   ]
  },
  {
   "cell_type": "code",
   "execution_count": 10,
   "id": "173d37fd-3792-4136-980a-4468f2f51f8d",
   "metadata": {
    "tags": []
   },
   "outputs": [],
   "source": [
    "x_elec = exio3agg.x.filter(like=\"Electricity\", axis=0) # using new aggregated regions\n",
    "\n",
    "#distributing outlook of other renewables based values from outlook from specified regionals\n",
    "x_elec_other_renewables = x_elec[x_elec.index.get_level_values('sector').isin(other_renewables_list)]\n",
    "x_elec_other_renewables_total = x_elec_other_renewables.groupby(level=0).sum()\n",
    "x_elec_other_renewables_normalized = x_elec_other_renewables.div(x_elec_other_renewables_total)\n",
    "\n",
    "#distributing outlook of other electricity (oil and nec) based values from outlook from specified regionals\n",
    "x_elec_oilothers = x_elec[x_elec.index.get_level_values('sector').isin(oilothers_sectors)]\n",
    "x_elec_oilothers_total = x_elec_oilothers.groupby(level=0).sum()\n",
    "x_elec_oilothers_normalized = x_elec_oilothers.div(x_elec_oilothers_total)\n",
    "\n",
    "for index, row in outlook_product.iterrows():\n",
    "    source = country_map.loc[index[1]][\"exio3\"]\n",
    "    if source!= \"not found\":\n",
    "        for sector in other_renewables_list: # for other renewables\n",
    "            proportion = x_elec_other_renewables_normalized.loc[source,sector][\"indout\"]\n",
    "            outlook_product.loc[index,sector] = row[\"Other Renewables\"] * proportion\n",
    "        for sector in oilothers_sectors: # for oil and others/nec \n",
    "            proportion = x_elec_oilothers_normalized.loc[source,sector][\"indout\"]\n",
    "            outlook_product.loc[index,sector] = row[\"Others\"] * proportion"
   ]
  },
  {
   "cell_type": "code",
   "execution_count": 11,
   "id": "92fbd5b7-496e-440d-b142-7879f1d4016e",
   "metadata": {
    "tags": []
   },
   "outputs": [
    {
     "data": {
      "text/plain": [
       "<pymrio.core.mriosystem.IOSystem at 0x7fafc5602c10>"
      ]
     },
     "execution_count": 11,
     "metadata": {},
     "output_type": "execute_result"
    }
   ],
   "source": [
    "# SECOND round aggregation\n",
    "region_agg = coco.agg_conc(original_countries='EXIO3', \n",
    "                           aggregates=[{\"ID\" : \"Southeast Asia\"},\"continent\"],\n",
    "                           missing_countries=True, \n",
    "                           merge_multiple_string=None)\n",
    "\n",
    "exio3agg = exio3.aggregate(region_agg = region_agg,inplace=False)\n",
    "exio3agg.calc_all()"
   ]
  },
  {
   "cell_type": "code",
   "execution_count": 12,
   "id": "9d66e716-08d1-47fc-bb57-4a3d326ed826",
   "metadata": {
    "tags": []
   },
   "outputs": [],
   "source": [
    "country_map[\"exio3\"] = \"not found\"\n",
    "country_map.loc[\"Europe\"][\"exio3\"] = \"Europe\"\n",
    "country_map.loc[\"Southeast Asia\"][\"exio3\"] = \"Southeast Asia\""
   ]
  },
  {
   "cell_type": "code",
   "execution_count": 13,
   "id": "d90759b3-e492-4120-b521-4586d5cf282b",
   "metadata": {
    "tags": []
   },
   "outputs": [],
   "source": [
    "x_elec = exio3agg.x.filter(like=\"Electricity\", axis=0) # using new aggregated regions\n",
    "\n",
    "#distributing outlook of other renewables based values from outlook from specified regionals\n",
    "x_elec_other_renewables = x_elec[x_elec.index.get_level_values('sector').isin(other_renewables_list)]\n",
    "x_elec_other_renewables_total = x_elec_other_renewables.groupby(level=0).sum()\n",
    "x_elec_other_renewables_normalized = x_elec_other_renewables.div(x_elec_other_renewables_total)\n",
    "\n",
    "#distributing outlook of other electricity (oil and nec) based values from outlook from specified regionals\n",
    "x_elec_oilothers = x_elec[x_elec.index.get_level_values('sector').isin(oilothers_sectors)]\n",
    "x_elec_oilothers_total = x_elec_oilothers.groupby(level=0).sum()\n",
    "x_elec_oilothers_normalized = x_elec_oilothers.div(x_elec_oilothers_total)\n",
    "\n",
    "for index, row in outlook_product.iterrows():\n",
    "    source = country_map.loc[index[1]][\"exio3\"]\n",
    "    if source!= \"not found\":\n",
    "        for sector in other_renewables_list: # for other renewables\n",
    "            proportion = x_elec_other_renewables_normalized.loc[source,sector][\"indout\"]\n",
    "            outlook_product.loc[index,sector] = row[\"Other Renewables\"] * proportion\n",
    "        for sector in oilothers_sectors: # for oil and others/nec \n",
    "            proportion = x_elec_oilothers_normalized.loc[source,sector][\"indout\"]\n",
    "            outlook_product.loc[index,sector] = row[\"Others\"] * proportion"
   ]
  },
  {
   "cell_type": "code",
   "execution_count": 14,
   "id": "c4af9868-e54c-4ef2-a495-a7b35b8ea4c0",
   "metadata": {
    "tags": []
   },
   "outputs": [
    {
     "data": {
      "text/plain": [
       "<pymrio.core.mriosystem.IOSystem at 0x7faf23bb3b90>"
      ]
     },
     "execution_count": 14,
     "metadata": {},
     "output_type": "execute_result"
    }
   ],
   "source": [
    "# THIRD round aggregation\n",
    "region_agg = coco.agg_conc(original_countries='EXIO3', \n",
    "                           aggregates=[],\n",
    "                           missing_countries=\"World\", \n",
    "                           merge_multiple_string=None)\n",
    "\n",
    "exio3agg = exio3.aggregate(region_agg = region_agg,inplace=False)\n",
    "exio3agg.calc_all()"
   ]
  },
  {
   "cell_type": "code",
   "execution_count": 15,
   "id": "f7c711f5-cdf0-4bc3-8bf1-6c336ed14fd5",
   "metadata": {
    "tags": []
   },
   "outputs": [],
   "source": [
    "country_map[\"exio3\"] = \"not found\"\n",
    "country_map.loc[\"World\"][\"exio3\"] = \"World\""
   ]
  },
  {
   "cell_type": "code",
   "execution_count": 16,
   "id": "b55476ba-5313-440a-89bd-0db85fab8bb7",
   "metadata": {
    "tags": []
   },
   "outputs": [],
   "source": [
    "x_elec = exio3agg.x.filter(like=\"Electricity\", axis=0) # using new aggregated regions\n",
    "\n",
    "#distributing outlook of other renewables based values from outlook from specified regionals\n",
    "x_elec_other_renewables = x_elec[x_elec.index.get_level_values('sector').isin(other_renewables_list)]\n",
    "x_elec_other_renewables_total = x_elec_other_renewables.groupby(level=0).sum()\n",
    "x_elec_other_renewables_normalized = x_elec_other_renewables.div(x_elec_other_renewables_total)\n",
    "\n",
    "#distributing outlook of other electricity (oil and nec) based values from outlook from specified regionals\n",
    "x_elec_oilothers = x_elec[x_elec.index.get_level_values('sector').isin(oilothers_sectors)]\n",
    "x_elec_oilothers_total = x_elec_oilothers.groupby(level=0).sum()\n",
    "x_elec_oilothers_normalized = x_elec_oilothers.div(x_elec_oilothers_total)\n",
    "\n",
    "for index, row in outlook_product.iterrows():\n",
    "    source = country_map.loc[index[1]][\"exio3\"]\n",
    "    if source!= \"not found\":\n",
    "        for sector in other_renewables_list: # for other renewables\n",
    "            proportion = x_elec_other_renewables_normalized.loc[source,sector][\"indout\"]\n",
    "            outlook_product.loc[index,sector] = row[\"Other Renewables\"] * proportion\n",
    "        for sector in oilothers_sectors: # for oil and others/nec \n",
    "            proportion = x_elec_oilothers_normalized.loc[source,sector][\"indout\"]\n",
    "            outlook_product.loc[index,sector] = row[\"Others\"] * proportion"
   ]
  },
  {
   "cell_type": "code",
   "execution_count": 17,
   "id": "d494d4ae-e019-4309-b4d4-e114028784c0",
   "metadata": {
    "tags": []
   },
   "outputs": [],
   "source": [
    "outlook_product = outlook_product[outlook_product.index.get_level_values('REGION') != 'Eurasia']"
   ]
  },
  {
   "cell_type": "code",
   "execution_count": 18,
   "id": "55a43bc2-cf3c-437d-8d28-70bf647be278",
   "metadata": {
    "tags": []
   },
   "outputs": [],
   "source": [
    "outlook_product[elec_sectors].to_csv(\"data/outlook_emix_product.csv\")"
   ]
  },
  {
   "cell_type": "code",
   "execution_count": 19,
   "id": "d24a5408-2d86-45db-815b-2829252635c3",
   "metadata": {
    "tags": []
   },
   "outputs": [],
   "source": [
    "# SECOND PART OF PARSING \n",
    "# creating ratio or standardized version of outlook\n",
    "file_path = \"data/outlook_emix_product.csv\"\n",
    "outlook_product = pd.read_csv(file_path)"
   ]
  },
  {
   "cell_type": "code",
   "execution_count": 20,
   "id": "ffa44f19-ffe2-41fa-97ff-e5b53c7bcc31",
   "metadata": {
    "tags": []
   },
   "outputs": [],
   "source": [
    "outlook_STD = outlook_product.set_index([\"SCENARIO\",\"REGION\",\"YEAR\"],inplace=False)\n",
    "outlook_STD_total = pd.DataFrame(index = outlook_STD.index, columns = outlook_STD.columns)\n",
    "outlook_STD_sum = outlook_STD.sum(axis=1)\n",
    "\n",
    "for index,value in outlook_STD_sum.items():\n",
    "    outlook_STD_total.loc[index] = value\n",
    "\n",
    "outlook_STD = outlook_STD.div(outlook_STD_total)"
   ]
  },
  {
   "cell_type": "code",
   "execution_count": 21,
   "id": "8408b767-d289-40ad-8938-4c0be859e3cb",
   "metadata": {
    "tags": []
   },
   "outputs": [],
   "source": [
    "outlook_STD.to_csv(\"data/outlook_emix_STD.csv\")"
   ]
  },
  {
   "cell_type": "code",
   "execution_count": 22,
   "id": "a401a681-f984-45cd-82d1-77639ce94e92",
   "metadata": {
    "tags": []
   },
   "outputs": [],
   "source": [
    "# THRID PART OF PARSING \n",
    "# creating detailed outlook per region per sector that match the A structure, but only for electricity \n",
    "scenario_list = [\"Announced Pledges Scenario\",\"Stated Policies Scenario\"]\n",
    "scenario_year_list = [2030,2050]"
   ]
  },
  {
   "cell_type": "code",
   "execution_count": 23,
   "id": "9681e0db-8edc-45df-9bac-ac04281f4627",
   "metadata": {
    "tags": []
   },
   "outputs": [],
   "source": [
    "def build_outlook_scenario(scenario, year):\n",
    "    outlook_scenario = outlook_all[(outlook_all.SCENARIO == scenario) & (outlook_all.YEAR == year)].drop(columns =['SCENARIO','YEAR'])\n",
    "    outlook_scenario = pd.melt(outlook_scenario, id_vars=['Exio3'], var_name='Product', value_name='Value')\n",
    "    outlook_scenario.set_index(['Exio3', 'Product'], inplace=True)\n",
    "    outlook_scenario.index.names = ['region', 'sector']\n",
    "    outlook_scenario = outlook_scenario.reindex(Z_elec.index)\n",
    "    #get the energy mix of actual usage from EXIO intermediary\n",
    "    Z_elec_total = Z_elec.groupby(level=0).sum()\n",
    "    Z_elec_STD = Z_elec.div(Z_elec_total)\n",
    "    Z_elec_STD.fillna(0,inplace=True)\n",
    "\n",
    "    outlook = pd.DataFrame(index = Z_elec_STD.index, columns = Z_elec_STD.columns)\n",
    "    for col in outlook.columns:\n",
    "        outlook[col] = outlook_scenario['Value']\n",
    "    \n",
    "    Z_elec_STD_total = Z_elec_STD.groupby(level=0).sum()\n",
    "    outlook = outlook.mul(Z_elec_STD_total)\n",
    "\n",
    "    outlook_gap = outlook - Z_elec_STD\n",
    "    outlook_gap.loc[(slice(None), low_emission_sectors),:] = 0 # focus on high emission sectors\n",
    "    # ignore outlook  where actual data is lower than the target, it means the target/outlook has been achieved. The remaining gap need to be subsidezed by other sectors\n",
    "    outlook_gap = pd.DataFrame(np.where(outlook_gap < 0, 0, outlook_gap), index=outlook_gap.index, columns=outlook_gap.columns) \n",
    "\n",
    "    outlook_low = outlook.copy()\n",
    "    outlook_low.loc[(slice(None), high_emission_sectors),:] = 0\n",
    "    outlook_low_total = outlook_low.groupby(level=0).sum()\n",
    "    outlook_low_STD = outlook_low.div(outlook_low_total)\n",
    "    outlook_low_STD.fillna(0,inplace=True)\n",
    "\n",
    "    outlook_gap_total = outlook_gap.groupby(level=0).sum()\n",
    "    outlook_gap_subs = outlook_low_STD.mul(outlook_gap_total) # get the amount of subsidy burdened by each sector not part of high emission sectors\n",
    "    outlook_gap_subs = outlook_gap_subs-outlook_gap # the amount of final subsidy, including negative subsidy for outlook of high emission sectors\n",
    "\n",
    "    new_outlook = outlook + outlook_gap_subs\n",
    "\n",
    "    filename = \"data/outlook_emix_\"+scenario.replace(\" \", \"\")+\"_\"+str(year)+\".csv\" \n",
    "    new_outlook.to_csv(filename)\n",
    "    return"
   ]
  },
  {
   "cell_type": "code",
   "execution_count": 24,
   "id": "a636584d-e3e6-4fa5-a30e-5d8357dcffe4",
   "metadata": {
    "tags": []
   },
   "outputs": [],
   "source": [
    "file_path = \"inputs/input_outlook_country_mapping.csv\"\n",
    "outlook_mapping = pd.read_csv(file_path)\n",
    "\n",
    "file_path = \"data/outlook_emix_STD.csv\"\n",
    "outlook_STD = pd.read_csv(file_path)"
   ]
  },
  {
   "cell_type": "code",
   "execution_count": 25,
   "id": "321300c0-f1b6-411c-b07d-aa326f9066be",
   "metadata": {
    "tags": []
   },
   "outputs": [],
   "source": [
    "Z_elec = exio3.Z.filter(like=\"Electricity\", axis=0)\n",
    "outlook_all = outlook_mapping.merge(outlook_STD, left_on='OutlookIEA', right_on='REGION',how = \"outer\")\n",
    "outlook_all.drop(columns =['OutlookIEA','REGION'], inplace=True)"
   ]
  },
  {
   "cell_type": "code",
   "execution_count": 26,
   "id": "3018493f-9a34-4adf-8f53-0eebb76bc1fc",
   "metadata": {
    "tags": []
   },
   "outputs": [],
   "source": [
    "for scenario in scenario_list: \n",
    "    for year in scenario_year_list:\n",
    "        build_outlook_scenario(scenario,year)"
   ]
  }
 ],
 "metadata": {
  "kernelspec": {
   "display_name": "Python 3 (ipykernel)",
   "language": "python",
   "name": "python3"
  },
  "language_info": {
   "codemirror_mode": {
    "name": "ipython",
    "version": 3
   },
   "file_extension": ".py",
   "mimetype": "text/x-python",
   "name": "python",
   "nbconvert_exporter": "python",
   "pygments_lexer": "ipython3",
   "version": "3.7.9"
  }
 },
 "nbformat": 4,
 "nbformat_minor": 5
}
