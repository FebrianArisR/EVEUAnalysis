{
 "cells": [
  {
   "cell_type": "code",
   "execution_count": 1,
   "id": "61bb5b97-2201-4262-9dab-a17da24e79bb",
   "metadata": {
    "tags": []
   },
   "outputs": [],
   "source": [
    "import pymrio\n",
    "exio3 = pymrio.parse_exiobase3(path=\"exiobase/IOT_2022_pxp.zip\")\n",
    "import country_converter as coco\n",
    "cc = coco.CountryConverter()\n",
    "import numpy as np\n",
    "import matplotlib.pyplot as plt\n",
    "import pandas as pd\n",
    "import seaborn as sns\n",
    "\n",
    "# Suppress future warnings\n",
    "import warnings\n",
    "warnings.simplefilter(action='ignore', category=FutureWarning)"
   ]
  },
  {
   "cell_type": "code",
   "execution_count": 2,
   "id": "fd98c573-0412-477d-92c9-6533cc20b3ed",
   "metadata": {
    "tags": []
   },
   "outputs": [],
   "source": [
    "exio3.calc_all()\n",
    "exio3_ori = exio3.copy()\n",
    "emptyY = exio3.Y.copy()\n",
    "emptyY.iloc[:,:] = 0\n",
    "\n",
    "x = exio3.x.copy()\n",
    "Z = exio3.Z.copy()\n",
    "A = exio3.A.copy()\n",
    "L = exio3.L.copy()\n"
   ]
  },
  {
   "cell_type": "code",
   "execution_count": 3,
   "id": "0538e6c7-5206-4966-ba75-324a3ef49658",
   "metadata": {
    "tags": []
   },
   "outputs": [],
   "source": [
    "# Setting up the variables\n",
    "vehicles_list = [\"ICEV\",\"PHEV\",\"BEV\",\"FCEV\"]\n",
    "stressor = \"Carbon dioxide (CO2) IPCC categories 1 to 4 and 6 to 7 (excl land use, land use change and forestry)\"\n",
    "scenario_list = [\"Projection-APS\"]\n",
    "year_list = [2030]\n",
    "demand_list = ['normal']\n",
    "demand = demand_list[0]\n",
    "column_list = [\"scenario\",\"year\",\"vehicles\",\"stage\",\"region\",\"sector\",\"emission\"]\n",
    "stage = \"manufacturing\"\n",
    "scenario = scenario_list[0]"
   ]
  },
  {
   "cell_type": "code",
   "execution_count": 4,
   "id": "6460d827-b90f-4c8c-817a-62b246c4ee10",
   "metadata": {
    "tags": []
   },
   "outputs": [],
   "source": [
    "def calc_emission(vehicles,outlook): \n",
    "    demandY = emptyY.copy()\n",
    "    \n",
    "    demandY[\"NL\",vehicles] = outlook[vehicles] ## NL as a place holder for european demand, we donot concern on which country the EV will be consumed, only the aggregated EU demand\n",
    "    demandY.fillna(0,inplace=True)\n",
    "    \n",
    "    exio3.Y = demandY\n",
    "    \n",
    "    # calculate with new demand\n",
    "    # coeff : A, L, S, M should be the same with original\n",
    "    exio3.x = None # reset the output\n",
    "    exio3.Z = None  # expect new transaction to satisfy the new the output\n",
    "    exio3.impacts.D_cba = None # reset foot print cba, others are not synch because they consider the emission from final demand\n",
    "    exio3.impacts.F = None\n",
    "    exio3.calc_all()\n",
    "    \n",
    "    diag_emission = None\n",
    "    #become a matrix F of regional - sector X regional - sector \n",
    "    diag_emission = exio3.impacts.diag_stressor(stressor)\n",
    "    diag_emission.F\n",
    "    \n",
    "    exio3.emission  = diag_emission\n",
    "    exio3.calc_all()\n",
    "    \n",
    "    #print(exio3.meta)\n",
    "    print(\"done calculation for \"+vehicles)\n",
    "    emission = exio3.emission.D_cba\n",
    "    return emission"
   ]
  },
  {
   "cell_type": "code",
   "execution_count": 5,
   "id": "c7895819-7ca0-46ee-8ae3-fcd965a02067",
   "metadata": {
    "tags": []
   },
   "outputs": [
    {
     "name": "stdout",
     "output_type": "stream",
     "text": [
      "data/outlook_manufacturing_country_Projection-APS_normal.csv\n"
     ]
    }
   ],
   "source": [
    "# read new outlook \n",
    "file_path = \"data/outlook_\"+stage+\"_country_\"+scenario+\".csv\"\n",
    "if (stage==\"manufacturing\"):\n",
    "   file_path = \"data/outlook_\"+stage+\"_country_\"+scenario+\"_\"+demand+\".csv\"\n",
    "\n",
    "print(file_path)\n",
    "#---------------------------------\n",
    "outlook = pd.read_csv(file_path)\n",
    "outlook.set_index(keys=[\"year\",\"region\",\"sector\"],inplace=True)"
   ]
  },
  {
   "cell_type": "code",
   "execution_count": 6,
   "id": "6fe818cd-211f-4cdf-a998-77a051267739",
   "metadata": {
    "tags": []
   },
   "outputs": [
    {
     "data": {
      "text/plain": [
       "Index(['CN', 'CZ', 'DE', 'FR', 'IT', 'KR', 'RO', 'SE', 'US'], dtype='object', name='region')"
      ]
     },
     "execution_count": 6,
     "metadata": {},
     "output_type": "execute_result"
    }
   ],
   "source": [
    "outlook.index.get_level_values(\"region\").unique()"
   ]
  },
  {
   "cell_type": "code",
   "execution_count": 7,
   "id": "0cea9c39-d700-43a4-8cd5-cee49197e098",
   "metadata": {
    "tags": []
   },
   "outputs": [
    {
     "name": "stdout",
     "output_type": "stream",
     "text": [
      "done calculation for ICEV\n",
      "done calculation for PHEV\n",
      "done calculation for BEV\n",
      "done calculation for FCEV\n"
     ]
    }
   ],
   "source": [
    "#start collectimg emission data\n",
    "emission_stage = pd.DataFrame(columns=column_list)\n",
    "\n",
    "for year in year_list: \n",
    "    for vehicles in vehicles_list:\n",
    "        emission = calc_emission(vehicles,outlook.loc[year])\n",
    "        emission_regions_total = emission.sum(axis=1).to_frame().reset_index()\n",
    "        emission_regions_total.rename(columns = {0:\"emission\"}, inplace=True)\n",
    "        emission_regions_total[\"stage\"] = stage\n",
    "        emission_regions_total[\"scenario\"] =  scenario\n",
    "        emission_regions_total[\"year\"] =  year\n",
    "        emission_regions_total[\"vehicles\"] =  vehicles\n",
    "        \n",
    "        ## add to overall record\n",
    "        emission_stage = pd.concat([emission_stage,emission_regions_total],axis=0) \n",
    "\n",
    "emission_stage.reset_index(drop=True,inplace=True) \n",
    "emission_stage.to_csv(\"outputs/emission_by_stage_\"+stage+\"_\"+demand+\"_country.csv\",index=False)"
   ]
  },
  {
   "cell_type": "code",
   "execution_count": null,
   "id": "cecd125e-723f-4fcd-b01b-c664727cabc9",
   "metadata": {},
   "outputs": [],
   "source": []
  }
 ],
 "metadata": {
  "kernelspec": {
   "display_name": "Python 3 (ipykernel)",
   "language": "python",
   "name": "python3"
  },
  "language_info": {
   "codemirror_mode": {
    "name": "ipython",
    "version": 3
   },
   "file_extension": ".py",
   "mimetype": "text/x-python",
   "name": "python",
   "nbconvert_exporter": "python",
   "pygments_lexer": "ipython3",
   "version": "3.7.9"
  }
 },
 "nbformat": 4,
 "nbformat_minor": 5
}
